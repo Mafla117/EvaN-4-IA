{
 "cells": [
  {
   "cell_type": "markdown",
   "metadata": {},
   "source": [
    "CODIGO PARA PARA ENTRENAR UN MODELO CON MÚLTIPLES IMÁGENES"
   ]
  },
  {
   "cell_type": "markdown",
   "metadata": {},
   "source": [
    "##Codigo no probado por falta de imágenes##"
   ]
  },
  {
   "cell_type": "code",
   "execution_count": null,
   "metadata": {},
   "outputs": [],
   "source": [
    "import os\n",
    "import cv2\n",
    "import numpy as np\n",
    "from sklearn.model_selection import train_test_split\n",
    "import tensorflow as tf\n",
    "from tensorflow.keras.models import Sequential\n",
    "from tensorflow.keras.layers import Conv2D, MaxPooling2D, Flatten, Dense\n",
    "import pytesseract"
   ]
  },
  {
   "cell_type": "code",
   "execution_count": null,
   "metadata": {},
   "outputs": [],
   "source": [
    "def cargar_datos(data_dir, img_size=(224, 224)):\n",
    "    \"\"\"\n",
    "    Carga imágenes desde un directorio y genera X (features) y y (labels).\n",
    "    \"\"\"\n",
    "    X = []  # Lista para almacenar las imágenes\n",
    "    y = []  # Lista para almacenar las etiquetas\n",
    "    clases = os.listdir(data_dir)  # Listar las clases en el directorio de datos\n",
    "    for clase_id, clase in enumerate(clases):\n",
    "        clase_path = os.path.join(data_dir, clase)  # Ruta del directorio de cada clase\n",
    "        for img_name in os.listdir(clase_path):  # Listar las imágenes de cada clase\n",
    "            img_path = os.path.join(clase_path, img_name)  # Ruta completa de la imagen\n",
    "            img = cv2.imread(img_path)  # Leer la imagen con OpenCV\n",
    "            if img is not None:  # Verificar que la imagen se haya cargado correctamente\n",
    "                img_resized = cv2.resize(img, img_size)  # Redimensionar la imagen\n",
    "                X.append(img_resized)  # Añadir la imagen redimensionada a X\n",
    "                y.append(clase_id)  # Añadir la etiqueta correspondiente a y\n",
    "    return np.array(X), np.array(y)  # Devolver las imágenes y las etiquetas como arrays de NumPy\n",
    "\n"
   ]
  },
  {
   "cell_type": "code",
   "execution_count": null,
   "metadata": {},
   "outputs": [],
   "source": [
    "# Ruta al directorio de datos (ajusta la ruta según tu estructura)\n",
    "train_data_dir = 'imagenes'  # Estructura: imagenes/clase_0/, imagenes/clase_1/\n",
    "\n",
    "# Cargar datos\n",
    "X, y = cargar_datos(train_data_dir)\n",
    "\n",
    "# Normalizar X (escala 0-1)\n",
    "X = X / 255.0\n",
    "\n",
    "# Dividir en entrenamiento y validación\n",
    "X_train, X_val, y_train, y_val = train_test_split(X, y, test_size=0.2, random_state=42)\n"
   ]
  },
  {
   "cell_type": "code",
   "execution_count": null,
   "metadata": {},
   "outputs": [],
   "source": [
    "def build_model():\n",
    "    \"\"\"\n",
    "    Construye y compila un modelo CNN.\n",
    "    \"\"\"\n",
    "    model = Sequential([\n",
    "        Conv2D(32, (3, 3), activation='relu', input_shape=(224, 224, 3)),\n",
    "        MaxPooling2D(2, 2),\n",
    "        Conv2D(64, (3, 3), activation='relu'),\n",
    "        MaxPooling2D(2, 2),\n",
    "        Flatten(),\n",
    "        Dense(128, activation='relu'),\n",
    "        Dense(2, activation='softmax')  # Clasificación binaria\n",
    "    ])\n",
    "    model.compile(optimizer='adam', loss='categorical_crossentropy', metrics=['accuracy'])\n",
    "    return model\n"
   ]
  },
  {
   "cell_type": "code",
   "execution_count": null,
   "metadata": {},
   "outputs": [],
   "source": [
    "# Cargar y entrenar el modelo\n",
    "model = build_model()\n",
    "history = model.fit(X_train, y_train, epochs=10, validation_split=0.2)\n",
    "\n",
    "# Guardar el modelo entrenado\n",
    "model.save(\"models/modelo_entrenado.h5\")\n"
   ]
  },
  {
   "cell_type": "code",
   "execution_count": null,
   "metadata": {},
   "outputs": [],
   "source": [
    "# Configuración de Tesseract\n",
    "pytesseract.pytesseract.tesseract_cmd = r'C:\\Program Files\\Tesseract-OCR\\tesseract.exe'\n",
    "\n",
    "def procesar_imagen(image_path):\n",
    "    \"\"\"\n",
    "    Carga y preprocesa una imagen.\n",
    "    \"\"\"\n",
    "    image = cv2.imread(image_path)\n",
    "    gray = cv2.cvtColor(image, cv2.COLOR_BGR2GRAY)\n",
    "    return gray\n"
   ]
  },
  {
   "cell_type": "code",
   "execution_count": null,
   "metadata": {},
   "outputs": [],
   "source": [
    "def inferencia(model, image_path):\n",
    "    \"\"\"\n",
    "    Realiza la inferencia del modelo y Tesseract OCR.\n",
    "    \"\"\"\n",
    "    image = procesar_imagen(image_path)\n",
    "    \n",
    "    # Realizar OCR con Tesseract\n",
    "    ocr_result = pytesseract.image_to_string(image, config=\"--psm 6 -l eng\")\n",
    "    print(\"Resultado OCR:\", ocr_result)\n",
    "\n",
    "    # Preprocesar imagen para la red neuronal\n",
    "    resized = cv2.resize(image, (224, 224)) / 255.0\n",
    "    prediction = model.predict(resized.reshape(1, 224, 224, 1))\n",
    "    print(\"Resultado Modelo CNN:\", prediction)\n"
   ]
  },
  {
   "cell_type": "code",
   "execution_count": null,
   "metadata": {},
   "outputs": [],
   "source": [
    "# Cargar el modelo guardado\n",
    "model = tf.keras.models.load_model(\"models/modelo_entrenado.h5\")\n",
    "\n",
    "# Realizar inferencia en una imagen de prueba\n",
    "inferencia(model, \"data/imagen_prueba.jpg\")\n"
   ]
  }
 ],
 "metadata": {
  "kernelspec": {
   "display_name": ".venv",
   "language": "python",
   "name": "python3"
  },
  "language_info": {
   "codemirror_mode": {
    "name": "ipython",
    "version": 3
   },
   "file_extension": ".py",
   "mimetype": "text/x-python",
   "name": "python",
   "nbconvert_exporter": "python",
   "pygments_lexer": "ipython3",
   "version": "3.12.4"
  }
 },
 "nbformat": 4,
 "nbformat_minor": 2
}
