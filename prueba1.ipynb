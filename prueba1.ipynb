{
 "cells": [
  {
   "cell_type": "markdown",
   "metadata": {},
   "source": [
    "CODÍGO PARA RECONOCIMIENTO DE TEXTO DE UNA IMÁGEN EN ESPECÍFICO"
   ]
  },
  {
   "cell_type": "markdown",
   "metadata": {},
   "source": [
    "##Crear un .Venv con los requerimientos del archivo \"requirements.txt\"##"
   ]
  },
  {
   "cell_type": "code",
   "execution_count": 6,
   "metadata": {},
   "outputs": [
    {
     "name": "stdout",
     "output_type": "stream",
     "text": [
      "Texto extraído con Tesseract:\n",
      "2026.02.26 CM\n",
      "0000102808\n",
      "CSP: 118887\n",
      "\n"
     ]
    }
   ],
   "source": [
    "import cv2\n",
    "import pytesseract\n",
    "import numpy as np\n",
    "\n",
    "# Configuración de Tesseract\n",
    "pytesseract.pytesseract.tesseract_cmd = r\"C:\\Users\\Misae\\AppData\\Local\\Programs\\Tesseract-OCR\\tesseract.exe\"  # Cambia esta ruta según tu instalación \n",
    "\n",
    "def preprocess_image(image_path, roi_coords):\n",
    "    \"\"\"\n",
    "    Carga y preprocesa una imagen.\n",
    "    \"\"\"\n",
    "    # Cargar la imagen\n",
    "    image = cv2.imread(image_path)\n",
    "\n",
    "    # Recortar la región de interés (ROI)\n",
    "    x1, y1, x2, y2 = roi_coords\n",
    "    roi = image[y1:y2, x1:x2]\n",
    "\n",
    "    # Escalar a grises\n",
    "    gray = cv2.cvtColor(roi, cv2.COLOR_BGR2GRAY)\n",
    "\n",
    "    # Aplicar un umbral para mejorar el contraste\n",
    "    _, thresh = cv2.threshold(gray, 128, 255, cv2.THRESH_BINARY | cv2.THRESH_OTSU)\n",
    "\n",
    "    return roi, thresh\n",
    "\n",
    "def extract_text(image, language=\"eng\"):\n",
    "    \"\"\"\n",
    "    Extrae texto de una imagen usando Tesseract.\n",
    "    \"\"\"\n",
    "    config = f'--psm 6 -l {language}'  # Cambia el idioma según lo necesites\n",
    "    extracted_text = pytesseract.image_to_string(image, config=config)\n",
    "    return extracted_text \n",
    "\n",
    "# Ruta de la imagen\n",
    "image_path = \"imagenes/image.JPG\"\n",
    "\n",
    "# Coordenadas de la ROI (ajusta de ser necesario)\n",
    "roi_coords = (400, 730, 845, 920)  # (x1, y1, x2, y2)\n",
    "print(\"Texto extraído con Tesseract:\")\n",
    "print(extracted_text)\n",
    "\n",
    "# Mostrar la región recortada\n",
    "cv2.imshow(\"ROI\", roi)\n",
    "cv2.waitKey(0)\n",
    "cv2.destroyAllWindows()\n"
   ]
  }
 ],
 "metadata": {
  "kernelspec": {
   "display_name": ".venv",
   "language": "python",
   "name": "python3"
  },
  "language_info": {
   "codemirror_mode": {
    "name": "ipython",
    "version": 3
   },
   "file_extension": ".py",
   "mimetype": "text/x-python",
   "name": "python",
   "nbconvert_exporter": "python",
   "pygments_lexer": "ipython3",
   "version": "3.12.4"
  }
 },
 "nbformat": 4,
 "nbformat_minor": 2
}
